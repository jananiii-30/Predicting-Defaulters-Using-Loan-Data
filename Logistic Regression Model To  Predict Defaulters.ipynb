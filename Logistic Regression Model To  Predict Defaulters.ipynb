{
 "cells": [
  {
   "cell_type": "markdown",
   "id": "55a78b5f",
   "metadata": {},
   "source": [
    "# Machine Learning Model to identify possibility of repayment of Loan\n"
   ]
  },
  {
   "cell_type": "code",
   "execution_count": null,
   "id": "4f9ae2a8",
   "metadata": {},
   "outputs": [],
   "source": [
    "# Importing essential libraries for the model.\n",
    "import pandas as pd\n",
    "import numpy as np\n",
    "import matplotlib.pyplot as plt\n",
    "import seaborn as sb\n",
    "import warnings\n",
    "warnings.filterwarnings(\"ignore\") "
   ]
  },
  {
   "cell_type": "code",
   "execution_count": 2,
   "id": "5ee989b5",
   "metadata": {},
   "outputs": [],
   "source": [
    "# Importing Dataset\n",
    "data=pd.read_csv('https://raw.githubusercontent.com/tkseneee/Dataset/master/credit-default.csv')"
   ]
  },
  {
   "cell_type": "code",
   "execution_count": 3,
   "id": "14006916",
   "metadata": {},
   "outputs": [
    {
     "data": {
      "text/html": [
       "<div>\n",
       "<style scoped>\n",
       "    .dataframe tbody tr th:only-of-type {\n",
       "        vertical-align: middle;\n",
       "    }\n",
       "\n",
       "    .dataframe tbody tr th {\n",
       "        vertical-align: top;\n",
       "    }\n",
       "\n",
       "    .dataframe thead th {\n",
       "        text-align: right;\n",
       "    }\n",
       "</style>\n",
       "<table border=\"1\" class=\"dataframe\">\n",
       "  <thead>\n",
       "    <tr style=\"text-align: right;\">\n",
       "      <th></th>\n",
       "      <th>checking_balance</th>\n",
       "      <th>months_loan_duration</th>\n",
       "      <th>credit_history</th>\n",
       "      <th>purpose</th>\n",
       "      <th>amount</th>\n",
       "      <th>savings_balance</th>\n",
       "      <th>employment_length</th>\n",
       "      <th>installment_rate</th>\n",
       "      <th>personal_status</th>\n",
       "      <th>other_debtors</th>\n",
       "      <th>...</th>\n",
       "      <th>property</th>\n",
       "      <th>age</th>\n",
       "      <th>installment_plan</th>\n",
       "      <th>housing</th>\n",
       "      <th>existing_credits</th>\n",
       "      <th>default</th>\n",
       "      <th>dependents</th>\n",
       "      <th>telephone</th>\n",
       "      <th>foreign_worker</th>\n",
       "      <th>job</th>\n",
       "    </tr>\n",
       "  </thead>\n",
       "  <tbody>\n",
       "    <tr>\n",
       "      <th>0</th>\n",
       "      <td>&lt; 0 DM</td>\n",
       "      <td>6</td>\n",
       "      <td>critical</td>\n",
       "      <td>radio/tv</td>\n",
       "      <td>1169</td>\n",
       "      <td>unknown</td>\n",
       "      <td>&gt; 7 yrs</td>\n",
       "      <td>4</td>\n",
       "      <td>single male</td>\n",
       "      <td>none</td>\n",
       "      <td>...</td>\n",
       "      <td>real estate</td>\n",
       "      <td>67</td>\n",
       "      <td>none</td>\n",
       "      <td>own</td>\n",
       "      <td>2</td>\n",
       "      <td>1</td>\n",
       "      <td>1</td>\n",
       "      <td>yes</td>\n",
       "      <td>yes</td>\n",
       "      <td>skilled employee</td>\n",
       "    </tr>\n",
       "    <tr>\n",
       "      <th>1</th>\n",
       "      <td>1 - 200 DM</td>\n",
       "      <td>48</td>\n",
       "      <td>repaid</td>\n",
       "      <td>radio/tv</td>\n",
       "      <td>5951</td>\n",
       "      <td>&lt; 100 DM</td>\n",
       "      <td>1 - 4 yrs</td>\n",
       "      <td>2</td>\n",
       "      <td>female</td>\n",
       "      <td>none</td>\n",
       "      <td>...</td>\n",
       "      <td>real estate</td>\n",
       "      <td>22</td>\n",
       "      <td>none</td>\n",
       "      <td>own</td>\n",
       "      <td>1</td>\n",
       "      <td>2</td>\n",
       "      <td>1</td>\n",
       "      <td>none</td>\n",
       "      <td>yes</td>\n",
       "      <td>skilled employee</td>\n",
       "    </tr>\n",
       "    <tr>\n",
       "      <th>2</th>\n",
       "      <td>unknown</td>\n",
       "      <td>12</td>\n",
       "      <td>critical</td>\n",
       "      <td>education</td>\n",
       "      <td>2096</td>\n",
       "      <td>&lt; 100 DM</td>\n",
       "      <td>4 - 7 yrs</td>\n",
       "      <td>2</td>\n",
       "      <td>single male</td>\n",
       "      <td>none</td>\n",
       "      <td>...</td>\n",
       "      <td>real estate</td>\n",
       "      <td>49</td>\n",
       "      <td>none</td>\n",
       "      <td>own</td>\n",
       "      <td>1</td>\n",
       "      <td>1</td>\n",
       "      <td>2</td>\n",
       "      <td>none</td>\n",
       "      <td>yes</td>\n",
       "      <td>unskilled resident</td>\n",
       "    </tr>\n",
       "  </tbody>\n",
       "</table>\n",
       "<p>3 rows × 21 columns</p>\n",
       "</div>"
      ],
      "text/plain": [
       "  checking_balance  months_loan_duration credit_history    purpose  amount  \\\n",
       "0           < 0 DM                     6       critical   radio/tv    1169   \n",
       "1       1 - 200 DM                    48         repaid   radio/tv    5951   \n",
       "2          unknown                    12       critical  education    2096   \n",
       "\n",
       "  savings_balance employment_length  installment_rate personal_status  \\\n",
       "0         unknown           > 7 yrs                 4     single male   \n",
       "1        < 100 DM         1 - 4 yrs                 2          female   \n",
       "2        < 100 DM         4 - 7 yrs                 2     single male   \n",
       "\n",
       "  other_debtors  ...     property age  installment_plan housing  \\\n",
       "0          none  ...  real estate  67              none     own   \n",
       "1          none  ...  real estate  22              none     own   \n",
       "2          none  ...  real estate  49              none     own   \n",
       "\n",
       "  existing_credits  default  dependents  telephone foreign_worker  \\\n",
       "0                2        1           1        yes            yes   \n",
       "1                1        2           1       none            yes   \n",
       "2                1        1           2       none            yes   \n",
       "\n",
       "                  job  \n",
       "0    skilled employee  \n",
       "1    skilled employee  \n",
       "2  unskilled resident  \n",
       "\n",
       "[3 rows x 21 columns]"
      ]
     },
     "execution_count": 3,
     "metadata": {},
     "output_type": "execute_result"
    }
   ],
   "source": [
    "data.head(3)"
   ]
  },
  {
   "cell_type": "markdown",
   "id": "a03d8663",
   "metadata": {},
   "source": [
    "# In order to build a machine learning model we need to first preprocess the data."
   ]
  },
  {
   "cell_type": "markdown",
   "id": "b0bc35e9",
   "metadata": {},
   "source": [
    "# 1.Missing Value Imputation"
   ]
  },
  {
   "cell_type": "code",
   "execution_count": 4,
   "id": "3a578c8b",
   "metadata": {},
   "outputs": [
    {
     "data": {
      "text/plain": [
       "checking_balance        0\n",
       "months_loan_duration    0\n",
       "credit_history          0\n",
       "purpose                 0\n",
       "amount                  0\n",
       "savings_balance         0\n",
       "employment_length       0\n",
       "installment_rate        0\n",
       "personal_status         0\n",
       "other_debtors           0\n",
       "residence_history       0\n",
       "property                0\n",
       "age                     0\n",
       "installment_plan        0\n",
       "housing                 0\n",
       "existing_credits        0\n",
       "default                 0\n",
       "dependents              0\n",
       "telephone               0\n",
       "foreign_worker          0\n",
       "job                     0\n",
       "dtype: int64"
      ]
     },
     "execution_count": 4,
     "metadata": {},
     "output_type": "execute_result"
    }
   ],
   "source": [
    "# To find whether missing values are present in the following columns\n",
    "data.isnull().sum()"
   ]
  },
  {
   "cell_type": "code",
   "execution_count": 5,
   "id": "0d01bd2a",
   "metadata": {},
   "outputs": [],
   "source": [
    "# We notice that although the isnull() function shows 0 , we can see certain possible null values hence we replace them to perform further required treatment.\n",
    "data['checking_balance']=data['checking_balance'].replace(\"unknown\",np.nan)\n",
    "data['savings_balance']=data['savings_balance'].replace(\"unknown\",np.nan)\n",
    "data['property']=data['property'].replace(\"unknown/none\",np.nan)\n"
   ]
  },
  {
   "cell_type": "code",
   "execution_count": 6,
   "id": "8b656595",
   "metadata": {},
   "outputs": [
    {
     "data": {
      "text/plain": [
       "checking_balance        394\n",
       "months_loan_duration      0\n",
       "credit_history            0\n",
       "purpose                   0\n",
       "amount                    0\n",
       "savings_balance         183\n",
       "employment_length         0\n",
       "installment_rate          0\n",
       "personal_status           0\n",
       "other_debtors             0\n",
       "residence_history         0\n",
       "property                154\n",
       "age                       0\n",
       "installment_plan          0\n",
       "housing                   0\n",
       "existing_credits          0\n",
       "default                   0\n",
       "dependents                0\n",
       "telephone                 0\n",
       "foreign_worker            0\n",
       "job                       0\n",
       "dtype: int64"
      ]
     },
     "execution_count": 6,
     "metadata": {},
     "output_type": "execute_result"
    }
   ],
   "source": [
    "# After the replacement\n",
    "data.isnull().sum()"
   ]
  },
  {
   "cell_type": "code",
   "execution_count": 7,
   "id": "19b9a578",
   "metadata": {},
   "outputs": [
    {
     "data": {
      "text/plain": [
       "checking_balance        39.4\n",
       "months_loan_duration     0.0\n",
       "credit_history           0.0\n",
       "purpose                  0.0\n",
       "amount                   0.0\n",
       "savings_balance         18.3\n",
       "employment_length        0.0\n",
       "installment_rate         0.0\n",
       "personal_status          0.0\n",
       "other_debtors            0.0\n",
       "residence_history        0.0\n",
       "property                15.4\n",
       "age                      0.0\n",
       "installment_plan         0.0\n",
       "housing                  0.0\n",
       "existing_credits         0.0\n",
       "default                  0.0\n",
       "dependents               0.0\n",
       "telephone                0.0\n",
       "foreign_worker           0.0\n",
       "job                      0.0\n",
       "dtype: float64"
      ]
     },
     "execution_count": 7,
     "metadata": {},
     "output_type": "execute_result"
    }
   ],
   "source": [
    "# Percentage of null values in each column\n",
    "data.isnull().sum()/len(data)*100"
   ]
  },
  {
   "cell_type": "code",
   "execution_count": 8,
   "id": "dae4bce7",
   "metadata": {},
   "outputs": [],
   "source": [
    "# Imputing null values using mode\n",
    "data['checking_balance']=data['checking_balance'].fillna(data['checking_balance'].mode()[0])\n",
    "data['savings_balance']=data['savings_balance'].fillna(data['savings_balance'].mode()[0])\n",
    "data['property']=data['property'].fillna(data['property'].mode()[0])"
   ]
  },
  {
   "cell_type": "code",
   "execution_count": 9,
   "id": "25e80cfc",
   "metadata": {},
   "outputs": [
    {
     "data": {
      "text/plain": [
       "checking_balance        0.0\n",
       "months_loan_duration    0.0\n",
       "credit_history          0.0\n",
       "purpose                 0.0\n",
       "amount                  0.0\n",
       "savings_balance         0.0\n",
       "employment_length       0.0\n",
       "installment_rate        0.0\n",
       "personal_status         0.0\n",
       "other_debtors           0.0\n",
       "residence_history       0.0\n",
       "property                0.0\n",
       "age                     0.0\n",
       "installment_plan        0.0\n",
       "housing                 0.0\n",
       "existing_credits        0.0\n",
       "default                 0.0\n",
       "dependents              0.0\n",
       "telephone               0.0\n",
       "foreign_worker          0.0\n",
       "job                     0.0\n",
       "dtype: float64"
      ]
     },
     "execution_count": 9,
     "metadata": {},
     "output_type": "execute_result"
    }
   ],
   "source": [
    "\n",
    "data.isnull().sum()/len(data)*100"
   ]
  },
  {
   "cell_type": "code",
   "execution_count": null,
   "id": "04c40de5",
   "metadata": {},
   "outputs": [],
   "source": [
    "# Hence missing values are treated."
   ]
  },
  {
   "cell_type": "markdown",
   "id": "1331c632",
   "metadata": {},
   "source": [
    "# Outlier Treatment"
   ]
  },
  {
   "cell_type": "code",
   "execution_count": 10,
   "id": "45d658f4",
   "metadata": {},
   "outputs": [
    {
     "data": {
      "text/plain": [
       "Index(['months_loan_duration', 'amount', 'installment_rate',\n",
       "       'residence_history', 'age', 'existing_credits', 'default',\n",
       "       'dependents'],\n",
       "      dtype='object')"
      ]
     },
     "execution_count": 10,
     "metadata": {},
     "output_type": "execute_result"
    }
   ],
   "source": [
    "# Deriving numerical data alone to identify outliers using boxplot\n",
    "num_data=data.select_dtypes(include=np.number)\n",
    "num_data.columns"
   ]
  },
  {
   "cell_type": "code",
   "execution_count": 11,
   "id": "dbccb8a3",
   "metadata": {},
   "outputs": [
    {
     "data": {
      "image/png": "[encoded data removed]",
      "text/plain": [
       "<Figure size 432x288 with 1 Axes>"
      ]
     },
     "metadata": {
      "needs_background": "light"
     },
     "output_type": "display_data"
    },
    {
     "data": {
      "image/png": "[encoded data removed]",
      "text/plain": [
       "<Figure size 432x288 with 1 Axes>"
      ]
     },
     "metadata": {
      "needs_background": "light"
     },
     "output_type": "display_data"
    },
    {
     "data": {
      "image/png": "[encoded data removed]",
      "text/plain": [
       "<Figure size 432x288 with 1 Axes>"
      ]
     },
     "metadata": {
      "needs_background": "light"
     },
     "output_type": "display_data"
    },
    {
     "data": {
      "image/png": "[encoded data removed]",
      "text/plain": [
       "<Figure size 432x288 with 1 Axes>"
      ]
     },
     "metadata": {
      "needs_background": "light"
     },
     "output_type": "display_data"
    },
    {
     "data": {
      "image/png": "[encoded data removed]",
      "text/plain": [
       "<Figure size 432x288 with 1 Axes>"
      ]
     },
     "metadata": {
      "needs_background": "light"
     },
     "output_type": "display_data"
    },
    {
     "data": {
      "image/png": "[encoded data removed]",
      "text/plain": [
       "<Figure size 432x288 with 1 Axes>"
      ]
     },
     "metadata": {
      "needs_background": "light"
     },
     "output_type": "display_data"
    },
    {
     "data": {
      "image/png": "[encoded data removed]",
      "text/plain": [
       "<Figure size 432x288 with 1 Axes>"
      ]
     },
     "metadata": {
      "needs_background": "light"
     },
     "output_type": "display_data"
    },
    {
     "data": {
      "image/png": "[encoded data removed]",
      "text/plain": [
       "<Figure size 432x288 with 1 Axes>"
      ]
     },
     "metadata": {
      "needs_background": "light"
     },
     "output_type": "display_data"
    }
   ],
   "source": [
    "for i in num_data.columns:\n",
    "    sb.boxplot(x=num_data[i])\n",
    "    plt.show()"
   ]
  },
  {
   "cell_type": "code",
   "execution_count": null,
   "id": "0ff6dcfa",
   "metadata": {},
   "outputs": [],
   "source": [
    "# We treat the outliers using capping method"
   ]
  },
  {
   "cell_type": "code",
   "execution_count": 12,
   "id": "e0e42f12",
   "metadata": {},
   "outputs": [],
   "source": [
    "for i in num_data.columns:\n",
    "    q1=num_data[i].quantile(0.25)\n",
    "    q3=num_data[i].quantile(0.75)\n",
    "    iqr=q3-q1\n",
    "    ub=q3+1.5*iqr\n",
    "    lb=q1-1.5*iqr\n",
    "    uc=num_data[i].quantile(0.99)\n",
    "    lc=num_data[i].quantile(0.01)\n",
    "    \n",
    "    ind1=num_data[num_data[i]>ub].index\n",
    "    ind2=num_data[num_data[i]<lb].index\n",
    "    \n",
    "    num_data.loc[ind1,i]=uc\n",
    "    num_data.loc[ind2,i]=lc\n",
    "   "
   ]
  },
  {
   "cell_type": "code",
   "execution_count": 13,
   "id": "f865f913",
   "metadata": {},
   "outputs": [
    {
     "data": {
      "image/png": "[encoded data removed]",
      "text/plain": [
       "<Figure size 432x288 with 1 Axes>"
      ]
     },
     "metadata": {
      "needs_background": "light"
     },
     "output_type": "display_data"
    },
    {
     "data": {
      "image/png": "[encoded data removed]",
      "text/plain": [
       "<Figure size 432x288 with 1 Axes>"
      ]
     },
     "metadata": {
      "needs_background": "light"
     },
     "output_type": "display_data"
    },
    {
     "data": {
      "image/png": "[encoded data removed]",
      "text/plain": [
       "<Figure size 432x288 with 1 Axes>"
      ]
     },
     "metadata": {
      "needs_background": "light"
     },
     "output_type": "display_data"
    },
    {
     "data": {
      "image/png": "[encoded data removed]",
      "text/plain": [
       "<Figure size 432x288 with 1 Axes>"
      ]
     },
     "metadata": {
      "needs_background": "light"
     },
     "output_type": "display_data"
    },
    {
     "data": {
      "image/png": "[encoded data removed]",
      "text/plain": [
       "<Figure size 432x288 with 1 Axes>"
      ]
     },
     "metadata": {
      "needs_background": "light"
     },
     "output_type": "display_data"
    },
    {
     "data": {
      "image/png": "[encoded data removed]",
      "text/plain": [
       "<Figure size 432x288 with 1 Axes>"
      ]
     },
     "metadata": {
      "needs_background": "light"
     },
     "output_type": "display_data"
    },
    {
     "data": {
      "image/png": "[encoded data removed]",
      "text/plain": [
       "<Figure size 432x288 with 1 Axes>"
      ]
     },
     "metadata": {
      "needs_background": "light"
     },
     "output_type": "display_data"
    },
    {
     "data": {
      "image/png": "[encoded data removed]",
      "text/plain": [
       "<Figure size 432x288 with 1 Axes>"
      ]
     },
     "metadata": {
      "needs_background": "light"
     },
     "output_type": "display_data"
    }
   ],
   "source": [
    "for i in num_data.columns:\n",
    "    sb.boxplot(x=num_data[i])\n",
    "    plt.show()\n",
    "    "
   ]
  },
  {
   "cell_type": "markdown",
   "id": "7bd08096",
   "metadata": {},
   "source": [
    "# 3. Encoding Categorical variables"
   ]
  },
  {
   "cell_type": "code",
   "execution_count": 14,
   "id": "5f41fbf3",
   "metadata": {},
   "outputs": [
    {
     "data": {
      "text/html": [
       "<div>\n",
       "<style scoped>\n",
       "    .dataframe tbody tr th:only-of-type {\n",
       "        vertical-align: middle;\n",
       "    }\n",
       "\n",
       "    .dataframe tbody tr th {\n",
       "        vertical-align: top;\n",
       "    }\n",
       "\n",
       "    .dataframe thead th {\n",
       "        text-align: right;\n",
       "    }\n",
       "</style>\n",
       "<table border=\"1\" class=\"dataframe\">\n",
       "  <thead>\n",
       "    <tr style=\"text-align: right;\">\n",
       "      <th></th>\n",
       "      <th>checking_balance</th>\n",
       "      <th>months_loan_duration</th>\n",
       "      <th>credit_history</th>\n",
       "      <th>purpose</th>\n",
       "      <th>amount</th>\n",
       "      <th>savings_balance</th>\n",
       "      <th>employment_length</th>\n",
       "      <th>installment_rate</th>\n",
       "      <th>personal_status</th>\n",
       "      <th>other_debtors</th>\n",
       "      <th>...</th>\n",
       "      <th>property</th>\n",
       "      <th>age</th>\n",
       "      <th>installment_plan</th>\n",
       "      <th>housing</th>\n",
       "      <th>existing_credits</th>\n",
       "      <th>default</th>\n",
       "      <th>dependents</th>\n",
       "      <th>telephone</th>\n",
       "      <th>foreign_worker</th>\n",
       "      <th>job</th>\n",
       "    </tr>\n",
       "  </thead>\n",
       "  <tbody>\n",
       "    <tr>\n",
       "      <th>0</th>\n",
       "      <td>&lt; 0 DM</td>\n",
       "      <td>6</td>\n",
       "      <td>critical</td>\n",
       "      <td>radio/tv</td>\n",
       "      <td>1169</td>\n",
       "      <td>&lt; 100 DM</td>\n",
       "      <td>&gt; 7 yrs</td>\n",
       "      <td>4</td>\n",
       "      <td>single male</td>\n",
       "      <td>none</td>\n",
       "      <td>...</td>\n",
       "      <td>real estate</td>\n",
       "      <td>67</td>\n",
       "      <td>none</td>\n",
       "      <td>own</td>\n",
       "      <td>2</td>\n",
       "      <td>1</td>\n",
       "      <td>1</td>\n",
       "      <td>yes</td>\n",
       "      <td>yes</td>\n",
       "      <td>skilled employee</td>\n",
       "    </tr>\n",
       "    <tr>\n",
       "      <th>1</th>\n",
       "      <td>1 - 200 DM</td>\n",
       "      <td>48</td>\n",
       "      <td>repaid</td>\n",
       "      <td>radio/tv</td>\n",
       "      <td>5951</td>\n",
       "      <td>&lt; 100 DM</td>\n",
       "      <td>1 - 4 yrs</td>\n",
       "      <td>2</td>\n",
       "      <td>female</td>\n",
       "      <td>none</td>\n",
       "      <td>...</td>\n",
       "      <td>real estate</td>\n",
       "      <td>22</td>\n",
       "      <td>none</td>\n",
       "      <td>own</td>\n",
       "      <td>1</td>\n",
       "      <td>2</td>\n",
       "      <td>1</td>\n",
       "      <td>none</td>\n",
       "      <td>yes</td>\n",
       "      <td>skilled employee</td>\n",
       "    </tr>\n",
       "    <tr>\n",
       "      <th>2</th>\n",
       "      <td>&lt; 0 DM</td>\n",
       "      <td>12</td>\n",
       "      <td>critical</td>\n",
       "      <td>education</td>\n",
       "      <td>2096</td>\n",
       "      <td>&lt; 100 DM</td>\n",
       "      <td>4 - 7 yrs</td>\n",
       "      <td>2</td>\n",
       "      <td>single male</td>\n",
       "      <td>none</td>\n",
       "      <td>...</td>\n",
       "      <td>real estate</td>\n",
       "      <td>49</td>\n",
       "      <td>none</td>\n",
       "      <td>own</td>\n",
       "      <td>1</td>\n",
       "      <td>1</td>\n",
       "      <td>2</td>\n",
       "      <td>none</td>\n",
       "      <td>yes</td>\n",
       "      <td>unskilled resident</td>\n",
       "    </tr>\n",
       "    <tr>\n",
       "      <th>3</th>\n",
       "      <td>&lt; 0 DM</td>\n",
       "      <td>42</td>\n",
       "      <td>repaid</td>\n",
       "      <td>furniture</td>\n",
       "      <td>7882</td>\n",
       "      <td>&lt; 100 DM</td>\n",
       "      <td>4 - 7 yrs</td>\n",
       "      <td>2</td>\n",
       "      <td>single male</td>\n",
       "      <td>guarantor</td>\n",
       "      <td>...</td>\n",
       "      <td>building society savings</td>\n",
       "      <td>45</td>\n",
       "      <td>none</td>\n",
       "      <td>for free</td>\n",
       "      <td>1</td>\n",
       "      <td>1</td>\n",
       "      <td>2</td>\n",
       "      <td>none</td>\n",
       "      <td>yes</td>\n",
       "      <td>skilled employee</td>\n",
       "    </tr>\n",
       "    <tr>\n",
       "      <th>4</th>\n",
       "      <td>&lt; 0 DM</td>\n",
       "      <td>24</td>\n",
       "      <td>delayed</td>\n",
       "      <td>car (new)</td>\n",
       "      <td>4870</td>\n",
       "      <td>&lt; 100 DM</td>\n",
       "      <td>1 - 4 yrs</td>\n",
       "      <td>3</td>\n",
       "      <td>single male</td>\n",
       "      <td>none</td>\n",
       "      <td>...</td>\n",
       "      <td>other</td>\n",
       "      <td>53</td>\n",
       "      <td>none</td>\n",
       "      <td>for free</td>\n",
       "      <td>2</td>\n",
       "      <td>2</td>\n",
       "      <td>2</td>\n",
       "      <td>none</td>\n",
       "      <td>yes</td>\n",
       "      <td>skilled employee</td>\n",
       "    </tr>\n",
       "  </tbody>\n",
       "</table>\n",
       "<p>5 rows × 21 columns</p>\n",
       "</div>"
      ],
      "text/plain": [
       "  checking_balance  months_loan_duration credit_history    purpose  amount  \\\n",
       "0           < 0 DM                     6       critical   radio/tv    1169   \n",
       "1       1 - 200 DM                    48         repaid   radio/tv    5951   \n",
       "2           < 0 DM                    12       critical  education    2096   \n",
       "3           < 0 DM                    42         repaid  furniture    7882   \n",
       "4           < 0 DM                    24        delayed  car (new)    4870   \n",
       "\n",
       "  savings_balance employment_length  installment_rate personal_status  \\\n",
       "0        < 100 DM           > 7 yrs                 4     single male   \n",
       "1        < 100 DM         1 - 4 yrs                 2          female   \n",
       "2        < 100 DM         4 - 7 yrs                 2     single male   \n",
       "3        < 100 DM         4 - 7 yrs                 2     single male   \n",
       "4        < 100 DM         1 - 4 yrs                 3     single male   \n",
       "\n",
       "  other_debtors  ...                  property age  installment_plan  \\\n",
       "0          none  ...               real estate  67              none   \n",
       "1          none  ...               real estate  22              none   \n",
       "2          none  ...               real estate  49              none   \n",
       "3     guarantor  ...  building society savings  45              none   \n",
       "4          none  ...                     other  53              none   \n",
       "\n",
       "    housing existing_credits  default  dependents  telephone foreign_worker  \\\n",
       "0       own                2        1           1        yes            yes   \n",
       "1       own                1        2           1       none            yes   \n",
       "2       own                1        1           2       none            yes   \n",
       "3  for free                1        1           2       none            yes   \n",
       "4  for free                2        2           2       none            yes   \n",
       "\n",
       "                  job  \n",
       "0    skilled employee  \n",
       "1    skilled employee  \n",
       "2  unskilled resident  \n",
       "3    skilled employee  \n",
       "4    skilled employee  \n",
       "\n",
       "[5 rows x 21 columns]"
      ]
     },
     "execution_count": 14,
     "metadata": {},
     "output_type": "execute_result"
    }
   ],
   "source": [
    "\n",
    "data.head(5)"
   ]
  },
  {
   "cell_type": "code",
   "execution_count": 15,
   "id": "aefc82cb",
   "metadata": {},
   "outputs": [
    {
     "data": {
      "text/plain": [
       "repaid                    530\n",
       "critical                  293\n",
       "delayed                    88\n",
       "fully repaid this bank     49\n",
       "fully repaid               40\n",
       "Name: credit_history, dtype: int64"
      ]
     },
     "execution_count": 15,
     "metadata": {},
     "output_type": "execute_result"
    }
   ],
   "source": [
    "# Identifying the different categories under credit_history\n",
    "data['credit_history'].value_counts()"
   ]
  },
  {
   "cell_type": "code",
   "execution_count": 17,
   "id": "ce718941",
   "metadata": {},
   "outputs": [],
   "source": [
    "# Since credit_history has more than 1 category and also it follows a particular order we can either use ordinal encoding or replace function for simplicity.\n",
    "data['credit_history']=data['credit_history'].replace({'fully repaid':4,\n",
    "                                                     'fully repaid this bank':3,\n",
    "                                                     'repaid':2,\n",
    "                                                      'delayed':1,\n",
    "                                                      'critical':0})"
   ]
  },
  {
   "cell_type": "code",
   "execution_count": 18,
   "id": "49bb7946",
   "metadata": {},
   "outputs": [
    {
     "data": {
      "text/plain": [
       "< 0 DM        668\n",
       "1 - 200 DM    269\n",
       "> 200 DM       63\n",
       "Name: checking_balance, dtype: int64"
      ]
     },
     "execution_count": 18,
     "metadata": {},
     "output_type": "execute_result"
    }
   ],
   "source": [
    "# Identifying the different categories under checking_balance\n",
    "data['checking_balance'].value_counts()"
   ]
  },
  {
   "cell_type": "code",
   "execution_count": 19,
   "id": "b301cc54",
   "metadata": {},
   "outputs": [],
   "source": [
    "# Since checking_balance  has more than 1 category and also it follows a particular order we can either use ordinal encoding or replace function for simplicity.\n",
    "data['checking_balance']=data['checking_balance'].replace({'< 0 DM':0,\n",
    "                                                     '1 - 200 DM':1,\n",
    "                                                     '> 200 DM':2})\n",
    "                                                  "
   ]
  },
  {
   "cell_type": "code",
   "execution_count": 20,
   "id": "cd112fec",
   "metadata": {},
   "outputs": [
    {
     "data": {
      "text/plain": [
       "dtype('int64')"
      ]
     },
     "execution_count": 20,
     "metadata": {},
     "output_type": "execute_result"
    }
   ],
   "source": [
    "data['checking_balance'].dtype"
   ]
  },
  {
   "cell_type": "code",
   "execution_count": 21,
   "id": "2e1f6da9",
   "metadata": {},
   "outputs": [],
   "source": [
    "# We convert the datatype to float as Logistic Models only accept float.\n",
    "data['checking_balance']=data['checking_balance'].astype(float)"
   ]
  },
  {
   "cell_type": "code",
   "execution_count": 22,
   "id": "126a97a1",
   "metadata": {},
   "outputs": [
    {
     "data": {
      "text/plain": [
       "dtype('float64')"
      ]
     },
     "execution_count": 22,
     "metadata": {},
     "output_type": "execute_result"
    }
   ],
   "source": [
    "data['checking_balance'].dtype"
   ]
  },
  {
   "cell_type": "code",
   "execution_count": 23,
   "id": "89f87291",
   "metadata": {},
   "outputs": [
    {
     "data": {
      "text/plain": [
       "< 100 DM         786\n",
       "101 - 500 DM     103\n",
       "501 - 1000 DM     63\n",
       "> 1000 DM         48\n",
       "Name: savings_balance, dtype: int64"
      ]
     },
     "execution_count": 23,
     "metadata": {},
     "output_type": "execute_result"
    }
   ],
   "source": [
    "# Identifying the different categories under savings_balance\n",
    "data['savings_balance'].value_counts()"
   ]
  },
  {
   "cell_type": "code",
   "execution_count": 24,
   "id": "64abefc2",
   "metadata": {},
   "outputs": [],
   "source": [
    "# Since savings_balance  has more than 1 category and also it follows a particular order we can either use ordinal encoding or replace function for simplicity.\n",
    "data['savings_balance']=data['savings_balance'].replace({'< 100 DM':0,\n",
    "                                                     '101 - 500 DM':1,\n",
    "                                                     '501 - 1000 DM':2,\n",
    "                                                     '> 1000 DM':3})\n",
    "                                                  "
   ]
  },
  {
   "cell_type": "code",
   "execution_count": 25,
   "id": "f0b158e3",
   "metadata": {},
   "outputs": [
    {
     "data": {
      "text/plain": [
       "dtype('int64')"
      ]
     },
     "execution_count": 25,
     "metadata": {},
     "output_type": "execute_result"
    }
   ],
   "source": [
    "data['savings_balance'].dtype"
   ]
  },
  {
   "cell_type": "code",
   "execution_count": 26,
   "id": "7f90e214",
   "metadata": {},
   "outputs": [],
   "source": [
    "# We convert the datatype to float as Logistic Models only accept float.\n",
    "data['savings_balance']=data['savings_balance'].astype(float)"
   ]
  },
  {
   "cell_type": "code",
   "execution_count": 27,
   "id": "558e67ae",
   "metadata": {},
   "outputs": [
    {
     "data": {
      "text/plain": [
       "array(['> 7 yrs', '1 - 4 yrs', '4 - 7 yrs', 'unemployed', '0 - 1 yrs'],\n",
       "      dtype=object)"
      ]
     },
     "execution_count": 27,
     "metadata": {},
     "output_type": "execute_result"
    }
   ],
   "source": [
    "\n",
    "data['employment_length'].unique()"
   ]
  },
  {
   "cell_type": "code",
   "execution_count": 28,
   "id": "ec3845e7",
   "metadata": {},
   "outputs": [],
   "source": [
    "# Since savings_balance  has more than 1 category and also it follows a particular order we can either use ordinal encoding or replace function for simplicity.\n",
    "data['employment_length']=data['employment_length'].replace({'unemployed':0,\n",
    "                                                     '0 - 1 yrs':1,\n",
    "                                                     '1 - 4 yrs':2,\n",
    "                                                    '4 - 7 yrs':3,\n",
    "                                                    '> 7 yrs':4})\n",
    "                                                  "
   ]
  },
  {
   "cell_type": "code",
   "execution_count": 29,
   "id": "fee92c33",
   "metadata": {
    "scrolled": true
   },
   "outputs": [
    {
     "data": {
      "text/plain": [
       "radio/tv               280\n",
       "car (new)              234\n",
       "furniture              181\n",
       "car (used)             103\n",
       "business                97\n",
       "education               50\n",
       "repairs                 22\n",
       "domestic appliances     12\n",
       "others                  12\n",
       "retraining               9\n",
       "Name: purpose, dtype: int64"
      ]
     },
     "execution_count": 29,
     "metadata": {},
     "output_type": "execute_result"
    }
   ],
   "source": [
    "# Purpose has multiple categories hence I prefer using frequency encoding\n",
    "tab=data['purpose'].value_counts()\n",
    "tab"
   ]
  },
  {
   "cell_type": "code",
   "execution_count": 30,
   "id": "6b9a2f2d",
   "metadata": {},
   "outputs": [],
   "source": [
    "data['purpose']=data['purpose'].map(tab)"
   ]
  },
  {
   "cell_type": "code",
   "execution_count": 31,
   "id": "9a7f0ed0",
   "metadata": {},
   "outputs": [
    {
     "data": {
      "text/plain": [
       "skilled employee           630\n",
       "unskilled resident         200\n",
       "mangement self-employed    148\n",
       "unemployed non-resident     22\n",
       "Name: job, dtype: int64"
      ]
     },
     "execution_count": 31,
     "metadata": {},
     "output_type": "execute_result"
    }
   ],
   "source": [
    "tab=data['job'].value_counts()\n",
    "tab"
   ]
  },
  {
   "cell_type": "code",
   "execution_count": 32,
   "id": "bafaca52",
   "metadata": {},
   "outputs": [],
   "source": [
    "# Job has few categories  but each category has a significant frequency hence I prefer using frequency encoding\n",
    "data['job']=data['job'].map(tab)"
   ]
  },
  {
   "cell_type": "code",
   "execution_count": 33,
   "id": "ea4298cf",
   "metadata": {},
   "outputs": [
    {
     "data": {
      "text/plain": [
       "none            907\n",
       "guarantor        52\n",
       "co-applicant     41\n",
       "Name: other_debtors, dtype: int64"
      ]
     },
     "execution_count": 33,
     "metadata": {},
     "output_type": "execute_result"
    }
   ],
   "source": [
    "# Identifying the different categories under other_debtors\n",
    "data['other_debtors'].value_counts()"
   ]
  },
  {
   "cell_type": "code",
   "execution_count": 34,
   "id": "afca835d",
   "metadata": {},
   "outputs": [],
   "source": [
    "#Since other_debtors has more than 1 category and also it follows some particular order we can either use ordinal encoding or replace function for simplicity.\n",
    "data['other_debtors']=data['other_debtors'].replace({'none':0,\n",
    "                                                     'guarantor':1,\n",
    "                                                     'co-applicant':2})\n",
    "                                                  "
   ]
  },
  {
   "cell_type": "code",
   "execution_count": 35,
   "id": "a323fc81",
   "metadata": {},
   "outputs": [],
   "source": [
    "# Replacing 2 as 0 in the output column- default\n",
    "data['default']=data['default'].replace({2:0})"
   ]
  },
  {
   "cell_type": "code",
   "execution_count": 36,
   "id": "3fff6267",
   "metadata": {},
   "outputs": [
    {
     "data": {
      "text/plain": [
       "1    700\n",
       "0    300\n",
       "Name: default, dtype: int64"
      ]
     },
     "execution_count": 36,
     "metadata": {},
     "output_type": "execute_result"
    }
   ],
   "source": [
    "data['default'].value_counts()"
   ]
  },
  {
   "cell_type": "code",
   "execution_count": 37,
   "id": "609c62e4",
   "metadata": {},
   "outputs": [
    {
     "data": {
      "text/html": [
       "<div>\n",
       "<style scoped>\n",
       "    .dataframe tbody tr th:only-of-type {\n",
       "        vertical-align: middle;\n",
       "    }\n",
       "\n",
       "    .dataframe tbody tr th {\n",
       "        vertical-align: top;\n",
       "    }\n",
       "\n",
       "    .dataframe thead th {\n",
       "        text-align: right;\n",
       "    }\n",
       "</style>\n",
       "<table border=\"1\" class=\"dataframe\">\n",
       "  <thead>\n",
       "    <tr style=\"text-align: right;\">\n",
       "      <th></th>\n",
       "      <th>checking_balance</th>\n",
       "      <th>months_loan_duration</th>\n",
       "      <th>credit_history</th>\n",
       "      <th>purpose</th>\n",
       "      <th>amount</th>\n",
       "      <th>savings_balance</th>\n",
       "      <th>employment_length</th>\n",
       "      <th>installment_rate</th>\n",
       "      <th>personal_status</th>\n",
       "      <th>other_debtors</th>\n",
       "      <th>...</th>\n",
       "      <th>property</th>\n",
       "      <th>age</th>\n",
       "      <th>installment_plan</th>\n",
       "      <th>housing</th>\n",
       "      <th>existing_credits</th>\n",
       "      <th>default</th>\n",
       "      <th>dependents</th>\n",
       "      <th>telephone</th>\n",
       "      <th>foreign_worker</th>\n",
       "      <th>job</th>\n",
       "    </tr>\n",
       "  </thead>\n",
       "  <tbody>\n",
       "    <tr>\n",
       "      <th>0</th>\n",
       "      <td>0.0</td>\n",
       "      <td>6</td>\n",
       "      <td>0</td>\n",
       "      <td>280</td>\n",
       "      <td>1169</td>\n",
       "      <td>0.0</td>\n",
       "      <td>4</td>\n",
       "      <td>4</td>\n",
       "      <td>single male</td>\n",
       "      <td>0</td>\n",
       "      <td>...</td>\n",
       "      <td>real estate</td>\n",
       "      <td>67</td>\n",
       "      <td>none</td>\n",
       "      <td>own</td>\n",
       "      <td>2</td>\n",
       "      <td>1</td>\n",
       "      <td>1</td>\n",
       "      <td>yes</td>\n",
       "      <td>yes</td>\n",
       "      <td>630</td>\n",
       "    </tr>\n",
       "    <tr>\n",
       "      <th>1</th>\n",
       "      <td>1.0</td>\n",
       "      <td>48</td>\n",
       "      <td>2</td>\n",
       "      <td>280</td>\n",
       "      <td>5951</td>\n",
       "      <td>0.0</td>\n",
       "      <td>2</td>\n",
       "      <td>2</td>\n",
       "      <td>female</td>\n",
       "      <td>0</td>\n",
       "      <td>...</td>\n",
       "      <td>real estate</td>\n",
       "      <td>22</td>\n",
       "      <td>none</td>\n",
       "      <td>own</td>\n",
       "      <td>1</td>\n",
       "      <td>0</td>\n",
       "      <td>1</td>\n",
       "      <td>none</td>\n",
       "      <td>yes</td>\n",
       "      <td>630</td>\n",
       "    </tr>\n",
       "    <tr>\n",
       "      <th>2</th>\n",
       "      <td>0.0</td>\n",
       "      <td>12</td>\n",
       "      <td>0</td>\n",
       "      <td>50</td>\n",
       "      <td>2096</td>\n",
       "      <td>0.0</td>\n",
       "      <td>3</td>\n",
       "      <td>2</td>\n",
       "      <td>single male</td>\n",
       "      <td>0</td>\n",
       "      <td>...</td>\n",
       "      <td>real estate</td>\n",
       "      <td>49</td>\n",
       "      <td>none</td>\n",
       "      <td>own</td>\n",
       "      <td>1</td>\n",
       "      <td>1</td>\n",
       "      <td>2</td>\n",
       "      <td>none</td>\n",
       "      <td>yes</td>\n",
       "      <td>200</td>\n",
       "    </tr>\n",
       "    <tr>\n",
       "      <th>3</th>\n",
       "      <td>0.0</td>\n",
       "      <td>42</td>\n",
       "      <td>2</td>\n",
       "      <td>181</td>\n",
       "      <td>7882</td>\n",
       "      <td>0.0</td>\n",
       "      <td>3</td>\n",
       "      <td>2</td>\n",
       "      <td>single male</td>\n",
       "      <td>1</td>\n",
       "      <td>...</td>\n",
       "      <td>building society savings</td>\n",
       "      <td>45</td>\n",
       "      <td>none</td>\n",
       "      <td>for free</td>\n",
       "      <td>1</td>\n",
       "      <td>1</td>\n",
       "      <td>2</td>\n",
       "      <td>none</td>\n",
       "      <td>yes</td>\n",
       "      <td>630</td>\n",
       "    </tr>\n",
       "  </tbody>\n",
       "</table>\n",
       "<p>4 rows × 21 columns</p>\n",
       "</div>"
      ],
      "text/plain": [
       "   checking_balance  months_loan_duration  credit_history  purpose  amount  \\\n",
       "0               0.0                     6               0      280    1169   \n",
       "1               1.0                    48               2      280    5951   \n",
       "2               0.0                    12               0       50    2096   \n",
       "3               0.0                    42               2      181    7882   \n",
       "\n",
       "   savings_balance  employment_length  installment_rate personal_status  \\\n",
       "0              0.0                  4                 4     single male   \n",
       "1              0.0                  2                 2          female   \n",
       "2              0.0                  3                 2     single male   \n",
       "3              0.0                  3                 2     single male   \n",
       "\n",
       "   other_debtors  ...                  property age  installment_plan  \\\n",
       "0              0  ...               real estate  67              none   \n",
       "1              0  ...               real estate  22              none   \n",
       "2              0  ...               real estate  49              none   \n",
       "3              1  ...  building society savings  45              none   \n",
       "\n",
       "    housing existing_credits  default  dependents  telephone foreign_worker  \\\n",
       "0       own                2        1           1        yes            yes   \n",
       "1       own                1        0           1       none            yes   \n",
       "2       own                1        1           2       none            yes   \n",
       "3  for free                1        1           2       none            yes   \n",
       "\n",
       "   job  \n",
       "0  630  \n",
       "1  630  \n",
       "2  200  \n",
       "3  630  \n",
       "\n",
       "[4 rows x 21 columns]"
      ]
     },
     "execution_count": 37,
     "metadata": {},
     "output_type": "execute_result"
    }
   ],
   "source": [
    "data.head(4)"
   ]
  },
  {
   "cell_type": "code",
   "execution_count": null,
   "id": "bf4bc8a1",
   "metadata": {},
   "outputs": [],
   "source": [
    "# For columns with 2 to 3 categories and following no particular order we can use 1- HOT Encoding"
   ]
  },
  {
   "cell_type": "code",
   "execution_count": 38,
   "id": "d6044493",
   "metadata": {},
   "outputs": [
    {
     "data": {
      "text/plain": [
       "none      814\n",
       "bank      139\n",
       "stores     47\n",
       "Name: installment_plan, dtype: int64"
      ]
     },
     "execution_count": 38,
     "metadata": {},
     "output_type": "execute_result"
    }
   ],
   "source": [
    "data['installment_plan'].value_counts()"
   ]
  },
  {
   "cell_type": "code",
   "execution_count": 39,
   "id": "e111ed0a",
   "metadata": {},
   "outputs": [
    {
     "data": {
      "text/plain": [
       "own         713\n",
       "rent        179\n",
       "for free    108\n",
       "Name: housing, dtype: int64"
      ]
     },
     "execution_count": 39,
     "metadata": {},
     "output_type": "execute_result"
    }
   ],
   "source": [
    "data['housing'].value_counts()"
   ]
  },
  {
   "cell_type": "code",
   "execution_count": 40,
   "id": "0fc233b3",
   "metadata": {},
   "outputs": [],
   "source": [
    "data=pd.get_dummies(data,columns=['property','personal_status','installment_plan','housing','telephone','foreign_worker'],drop_first=True)"
   ]
  },
  {
   "cell_type": "code",
   "execution_count": 41,
   "id": "c1b6b461",
   "metadata": {},
   "outputs": [
    {
     "data": {
      "text/html": [
       "<div>\n",
       "<style scoped>\n",
       "    .dataframe tbody tr th:only-of-type {\n",
       "        vertical-align: middle;\n",
       "    }\n",
       "\n",
       "    .dataframe tbody tr th {\n",
       "        vertical-align: top;\n",
       "    }\n",
       "\n",
       "    .dataframe thead th {\n",
       "        text-align: right;\n",
       "    }\n",
       "</style>\n",
       "<table border=\"1\" class=\"dataframe\">\n",
       "  <thead>\n",
       "    <tr style=\"text-align: right;\">\n",
       "      <th></th>\n",
       "      <th>checking_balance</th>\n",
       "      <th>months_loan_duration</th>\n",
       "      <th>credit_history</th>\n",
       "      <th>purpose</th>\n",
       "      <th>amount</th>\n",
       "      <th>savings_balance</th>\n",
       "      <th>employment_length</th>\n",
       "      <th>installment_rate</th>\n",
       "      <th>other_debtors</th>\n",
       "      <th>residence_history</th>\n",
       "      <th>...</th>\n",
       "      <th>property_real estate</th>\n",
       "      <th>personal_status_female</th>\n",
       "      <th>personal_status_married male</th>\n",
       "      <th>personal_status_single male</th>\n",
       "      <th>installment_plan_none</th>\n",
       "      <th>installment_plan_stores</th>\n",
       "      <th>housing_own</th>\n",
       "      <th>housing_rent</th>\n",
       "      <th>telephone_yes</th>\n",
       "      <th>foreign_worker_yes</th>\n",
       "    </tr>\n",
       "  </thead>\n",
       "  <tbody>\n",
       "    <tr>\n",
       "      <th>0</th>\n",
       "      <td>0.0</td>\n",
       "      <td>6</td>\n",
       "      <td>0</td>\n",
       "      <td>280</td>\n",
       "      <td>1169</td>\n",
       "      <td>0.0</td>\n",
       "      <td>4</td>\n",
       "      <td>4</td>\n",
       "      <td>0</td>\n",
       "      <td>4</td>\n",
       "      <td>...</td>\n",
       "      <td>1</td>\n",
       "      <td>0</td>\n",
       "      <td>0</td>\n",
       "      <td>1</td>\n",
       "      <td>1</td>\n",
       "      <td>0</td>\n",
       "      <td>1</td>\n",
       "      <td>0</td>\n",
       "      <td>1</td>\n",
       "      <td>1</td>\n",
       "    </tr>\n",
       "    <tr>\n",
       "      <th>1</th>\n",
       "      <td>1.0</td>\n",
       "      <td>48</td>\n",
       "      <td>2</td>\n",
       "      <td>280</td>\n",
       "      <td>5951</td>\n",
       "      <td>0.0</td>\n",
       "      <td>2</td>\n",
       "      <td>2</td>\n",
       "      <td>0</td>\n",
       "      <td>2</td>\n",
       "      <td>...</td>\n",
       "      <td>1</td>\n",
       "      <td>1</td>\n",
       "      <td>0</td>\n",
       "      <td>0</td>\n",
       "      <td>1</td>\n",
       "      <td>0</td>\n",
       "      <td>1</td>\n",
       "      <td>0</td>\n",
       "      <td>0</td>\n",
       "      <td>1</td>\n",
       "    </tr>\n",
       "    <tr>\n",
       "      <th>2</th>\n",
       "      <td>0.0</td>\n",
       "      <td>12</td>\n",
       "      <td>0</td>\n",
       "      <td>50</td>\n",
       "      <td>2096</td>\n",
       "      <td>0.0</td>\n",
       "      <td>3</td>\n",
       "      <td>2</td>\n",
       "      <td>0</td>\n",
       "      <td>3</td>\n",
       "      <td>...</td>\n",
       "      <td>1</td>\n",
       "      <td>0</td>\n",
       "      <td>0</td>\n",
       "      <td>1</td>\n",
       "      <td>1</td>\n",
       "      <td>0</td>\n",
       "      <td>1</td>\n",
       "      <td>0</td>\n",
       "      <td>0</td>\n",
       "      <td>1</td>\n",
       "    </tr>\n",
       "    <tr>\n",
       "      <th>3</th>\n",
       "      <td>0.0</td>\n",
       "      <td>42</td>\n",
       "      <td>2</td>\n",
       "      <td>181</td>\n",
       "      <td>7882</td>\n",
       "      <td>0.0</td>\n",
       "      <td>3</td>\n",
       "      <td>2</td>\n",
       "      <td>1</td>\n",
       "      <td>4</td>\n",
       "      <td>...</td>\n",
       "      <td>0</td>\n",
       "      <td>0</td>\n",
       "      <td>0</td>\n",
       "      <td>1</td>\n",
       "      <td>1</td>\n",
       "      <td>0</td>\n",
       "      <td>0</td>\n",
       "      <td>0</td>\n",
       "      <td>0</td>\n",
       "      <td>1</td>\n",
       "    </tr>\n",
       "  </tbody>\n",
       "</table>\n",
       "<p>4 rows × 26 columns</p>\n",
       "</div>"
      ],
      "text/plain": [
       "   checking_balance  months_loan_duration  credit_history  purpose  amount  \\\n",
       "0               0.0                     6               0      280    1169   \n",
       "1               1.0                    48               2      280    5951   \n",
       "2               0.0                    12               0       50    2096   \n",
       "3               0.0                    42               2      181    7882   \n",
       "\n",
       "   savings_balance  employment_length  installment_rate  other_debtors  \\\n",
       "0              0.0                  4                 4              0   \n",
       "1              0.0                  2                 2              0   \n",
       "2              0.0                  3                 2              0   \n",
       "3              0.0                  3                 2              1   \n",
       "\n",
       "   residence_history  ...  property_real estate  personal_status_female  \\\n",
       "0                  4  ...                     1                       0   \n",
       "1                  2  ...                     1                       1   \n",
       "2                  3  ...                     1                       0   \n",
       "3                  4  ...                     0                       0   \n",
       "\n",
       "   personal_status_married male  personal_status_single male  \\\n",
       "0                             0                            1   \n",
       "1                             0                            0   \n",
       "2                             0                            1   \n",
       "3                             0                            1   \n",
       "\n",
       "   installment_plan_none  installment_plan_stores  housing_own  housing_rent  \\\n",
       "0                      1                        0            1             0   \n",
       "1                      1                        0            1             0   \n",
       "2                      1                        0            1             0   \n",
       "3                      1                        0            0             0   \n",
       "\n",
       "   telephone_yes  foreign_worker_yes  \n",
       "0              1                   1  \n",
       "1              0                   1  \n",
       "2              0                   1  \n",
       "3              0                   1  \n",
       "\n",
       "[4 rows x 26 columns]"
      ]
     },
     "execution_count": 41,
     "metadata": {},
     "output_type": "execute_result"
    }
   ],
   "source": [
    "data.head(4)"
   ]
  },
  {
   "cell_type": "markdown",
   "id": "3de90cd8",
   "metadata": {},
   "source": [
    "# Building the Models  using different algorithms simultaneously so that their performance can be assessed and the best algorithm that could yield the best result with highest accuracy and minimal error could be used to get efficient results. "
   ]
  },
  {
   "cell_type": "code",
   "execution_count": 42,
   "id": "e8b8450a",
   "metadata": {},
   "outputs": [],
   "source": [
    "# Defining input and output \n",
    "inp=data.drop('default',axis=1)\n",
    "out=data['default']"
   ]
  },
  {
   "cell_type": "code",
   "execution_count": 43,
   "id": "3000ea05",
   "metadata": {},
   "outputs": [],
   "source": [
    "# Importing required functions for the below mentioned algorithms.\n",
    "from sklearn.linear_model import LogisticRegression\n",
    "from sklearn.tree import DecisionTreeClassifier\n",
    "from sklearn.ensemble import RandomForestClassifier\n",
    "from sklearn.ensemble import AdaBoostClassifier\n",
    "from sklearn.ensemble import GradientBoostingClassifier\n",
    "from sklearn.neighbors import KNeighborsClassifier\n",
    "from sklearn.naive_bayes import GaussianNB"
   ]
  },
  {
   "cell_type": "code",
   "execution_count": 44,
   "id": "6b9036f1",
   "metadata": {},
   "outputs": [],
   "source": [
    "# Defining the model\n",
    "logi=LogisticRegression()\n",
    "dt=DecisionTreeClassifier()\n",
    "rf=RandomForestClassifier()\n",
    "knn=KNeighborsClassifier(n_neighbors=7)\n",
    "gb=GradientBoostingClassifier()\n",
    "ab=AdaBoostClassifier()\n",
    "gnb=GaussianNB()"
   ]
  },
  {
   "cell_type": "code",
   "execution_count": 45,
   "id": "50127d4e",
   "metadata": {
    "scrolled": true
   },
   "outputs": [
    {
     "name": "stdout",
     "output_type": "stream",
     "text": [
      "Logistic Bias_score: 0.82 Bias_Error: 0.18 Variance_error: 0.02\n",
      "DT Bias_score: 0.75 Bias_Error: 0.25 Variance_error: 0.04\n",
      "RF Bias_score: 0.82 Bias_Error: 0.18 Variance_error: 0.02\n",
      "KNN Bias_score: 0.78 Bias_Error: 0.22 Variance_error: 0.02\n",
      "GBoost Bias_score: 0.82 Bias_Error: 0.18 Variance_error: 0.01\n",
      "AB Bias_score: 0.82 Bias_Error: 0.18 Variance_error: 0.02\n",
      "GNB Bias_score: 0.77 Bias_Error: 0.23 Variance_error: 0.03\n"
     ]
    }
   ],
   "source": [
    "# Assesing all the models based on Bias Score, Bias Error and Variance error using f1 score.\n",
    "from sklearn.model_selection import cross_val_score\n",
    "for i,j in zip([logi,dt,rf,knn,gb,ab,gnb],['Logistic','DT','RF','KNN','GBoost','AB','GNB']):\n",
    "    score=cross_val_score(i,inp,out,cv=5,scoring='f1')\n",
    "    #print('The F1score for the 5 splits are: ',score)\n",
    "    bs=np.round(score.mean(),2)\n",
    "    be=np.round(1-score.mean(),2)\n",
    "    ve=np.round(score.std()/score.mean(),2)\n",
    "    print(j,'Bias_score:',bs,'Bias_Error:',be,\n",
    "          'Variance_error:',ve)"
   ]
  },
  {
   "cell_type": "code",
   "execution_count": null,
   "id": "a3932764",
   "metadata": {},
   "outputs": [],
   "source": [
    "# Creating classification reports for all the models to analyze precision,recall and accuracy "
   ]
  },
  {
   "cell_type": "code",
   "execution_count": 46,
   "id": "1f3a819a",
   "metadata": {},
   "outputs": [
    {
     "name": "stdout",
     "output_type": "stream",
     "text": [
      "              precision    recall  f1-score   support\n",
      "\n",
      "           0       0.46      0.31      0.37        81\n",
      "           1       0.77      0.87      0.82       219\n",
      "\n",
      "    accuracy                           0.72       300\n",
      "   macro avg       0.62      0.59      0.59       300\n",
      "weighted avg       0.69      0.72      0.70       300\n",
      "\n"
     ]
    }
   ],
   "source": [
    "# Logistic Regression \n",
    "from sklearn.model_selection import train_test_split\n",
    "logi=LogisticRegression(max_iter=500)\n",
    "xtrain,xtest,ytrain,ytest=train_test_split(inp,out,test_size=0.3,\n",
    "                                          random_state=100)\n",
    "logi.fit(xtrain,ytrain)\n",
    "ypred=logi.predict(xtest)\n",
    "\n",
    "from sklearn.metrics import classification_report\n",
    "print(classification_report(ytest,ypred))"
   ]
  },
  {
   "cell_type": "code",
   "execution_count": 47,
   "id": "65f21498",
   "metadata": {},
   "outputs": [
    {
     "name": "stdout",
     "output_type": "stream",
     "text": [
      "              precision    recall  f1-score   support\n",
      "\n",
      "           0       0.31      0.35      0.33        81\n",
      "           1       0.75      0.72      0.73       219\n",
      "\n",
      "    accuracy                           0.62       300\n",
      "   macro avg       0.53      0.53      0.53       300\n",
      "weighted avg       0.63      0.62      0.63       300\n",
      "\n"
     ]
    }
   ],
   "source": [
    "# Decision Tree\n",
    "from sklearn.tree import DecisionTreeClassifier\n",
    "dt=DecisionTreeClassifier()\n",
    "xtrain,xtest,ytrain,ytest=train_test_split(inp,out,test_size=0.3,\n",
    "                                          random_state=100)\n",
    "\n",
    "dt.fit(xtrain,ytrain)\n",
    "ypred=dt.predict(xtest)\n",
    "from sklearn.metrics import classification_report\n",
    "print(classification_report(ytest,ypred))"
   ]
  },
  {
   "cell_type": "code",
   "execution_count": 48,
   "id": "e323f94b",
   "metadata": {},
   "outputs": [
    {
     "name": "stdout",
     "output_type": "stream",
     "text": [
      "              precision    recall  f1-score   support\n",
      "\n",
      "           0       0.51      0.26      0.34        81\n",
      "           1       0.77      0.91      0.83       219\n",
      "\n",
      "    accuracy                           0.73       300\n",
      "   macro avg       0.64      0.58      0.59       300\n",
      "weighted avg       0.70      0.73      0.70       300\n",
      "\n"
     ]
    }
   ],
   "source": [
    "# Random Forest\n",
    "rf=RandomForestClassifier()\n",
    "xtrain,xtest,ytrain,ytest=train_test_split(inp,out,test_size=0.3,\n",
    "                                          random_state=100)\n",
    "rf.fit(xtrain,ytrain)\n",
    "ypred=rf.predict(xtest)\n",
    "print(classification_report(ytest,ypred))"
   ]
  },
  {
   "cell_type": "code",
   "execution_count": 49,
   "id": "217585c6",
   "metadata": {},
   "outputs": [
    {
     "name": "stdout",
     "output_type": "stream",
     "text": [
      "              precision    recall  f1-score   support\n",
      "\n",
      "           0       0.51      0.26      0.34        81\n",
      "           1       0.77      0.91      0.83       219\n",
      "\n",
      "    accuracy                           0.73       300\n",
      "   macro avg       0.64      0.58      0.59       300\n",
      "weighted avg       0.70      0.73      0.70       300\n",
      "\n"
     ]
    }
   ],
   "source": [
    "# KNN\n",
    "knn=KNeighborsClassifier()\n",
    "xtrain,xtest,ytrain,ytest=train_test_split(inp,out,test_size=0.3,\n",
    "                                          random_state=100)\n",
    "\n",
    "knn.fit(xtrain,ytrain)\n",
    "ypred=rf.predict(xtest)\n",
    "print(classification_report(ytest,ypred))"
   ]
  },
  {
   "cell_type": "code",
   "execution_count": 50,
   "id": "5f384e21",
   "metadata": {},
   "outputs": [
    {
     "name": "stdout",
     "output_type": "stream",
     "text": [
      "              precision    recall  f1-score   support\n",
      "\n",
      "           0       0.49      0.32      0.39        81\n",
      "           1       0.78      0.88      0.82       219\n",
      "\n",
      "    accuracy                           0.73       300\n",
      "   macro avg       0.63      0.60      0.61       300\n",
      "weighted avg       0.70      0.73      0.71       300\n",
      "\n"
     ]
    }
   ],
   "source": [
    "# Gradient Boosting\n",
    "gb=GradientBoostingClassifier()\n",
    "xtrain,xtest,ytrain,ytest=train_test_split(inp,out,test_size=0.3,\n",
    "                                          random_state=100)\n",
    "gb.fit(xtrain,ytrain)\n",
    "ypred=gb.predict(xtest)\n",
    "print(classification_report(ytest,ypred))"
   ]
  },
  {
   "cell_type": "code",
   "execution_count": 51,
   "id": "b51e2b9d",
   "metadata": {},
   "outputs": [
    {
     "name": "stdout",
     "output_type": "stream",
     "text": [
      "              precision    recall  f1-score   support\n",
      "\n",
      "           0       0.49      0.32      0.39        81\n",
      "           1       0.78      0.88      0.82       219\n",
      "\n",
      "    accuracy                           0.73       300\n",
      "   macro avg       0.63      0.60      0.61       300\n",
      "weighted avg       0.70      0.73      0.71       300\n",
      "\n"
     ]
    }
   ],
   "source": [
    "# AdaBoost\n",
    "ab=AdaBoostClassifier()\n",
    "xtrain,xtest,ytrain,ytest=train_test_split(inp,out,test_size=0.3,\n",
    "                                           random_state=100)\n",
    "ab.fit(xtrain,ytrain)\n",
    "ypred=ab.predict(xtest)\n",
    "print(classification_report(ytest,ypred))"
   ]
  },
  {
   "cell_type": "code",
   "execution_count": 52,
   "id": "4e1b6a7f",
   "metadata": {},
   "outputs": [
    {
     "name": "stdout",
     "output_type": "stream",
     "text": [
      "              precision    recall  f1-score   support\n",
      "\n",
      "           0       0.41      0.52      0.46        81\n",
      "           1       0.80      0.73      0.76       219\n",
      "\n",
      "    accuracy                           0.67       300\n",
      "   macro avg       0.61      0.62      0.61       300\n",
      "weighted avg       0.70      0.67      0.68       300\n",
      "\n"
     ]
    }
   ],
   "source": [
    "#  Gaussian NaiveBayes\n",
    "gnb=GaussianNB()\n",
    "xtrain,xtest,ytrain,ytest=train_test_split(inp,out,test_size=0.3,\n",
    "                                           random_state=100)\n",
    "gnb.fit(xtrain,ytrain)\n",
    "ypred=gnb.predict(xtest)\n",
    "print(classification_report(ytest,ypred))"
   ]
  },
  {
   "cell_type": "code",
   "execution_count": null,
   "id": "5bc2a2d3",
   "metadata": {},
   "outputs": [],
   "source": [
    "# Therefore comparing the f1 scores and Bias,Bias Error, Variance Error , we can say that Random Forest Classifier and AdaBoost Classifier  are performing relatively well , hence we shortlist these two models for hypertuning."
   ]
  },
  {
   "cell_type": "code",
   "execution_count": 54,
   "id": "38f40fa6",
   "metadata": {},
   "outputs": [],
   "source": [
    "# Importing required libraries for hypertuning using grid search cv\n",
    "from sklearn.model_selection import GridSearchCV"
   ]
  },
  {
   "cell_type": "code",
   "execution_count": 55,
   "id": "2442d0ce",
   "metadata": {},
   "outputs": [],
   "source": [
    "# Defining parameters to be tuned \n",
    "parameter={'n_estimators':[20,40,60,80,100,120,140,160],\n",
    "          'criterion':['gini','entropy'],\n",
    "          'max_depth':[5,8,12,16,20]}"
   ]
  },
  {
   "cell_type": "code",
   "execution_count": 56,
   "id": "6b8b9327",
   "metadata": {},
   "outputs": [],
   "source": [
    "rf_mod=RandomForestClassifier()\n",
    "hyp_mod=GridSearchCV(rf_mod,param_grid=parameter,scoring='f1')\n"
   ]
  },
  {
   "cell_type": "code",
   "execution_count": 57,
   "id": "83d5004f",
   "metadata": {},
   "outputs": [],
   "source": [
    "tun_mod=hyp_mod.fit(xtrain,ytrain)"
   ]
  },
  {
   "cell_type": "code",
   "execution_count": 58,
   "id": "06c8ab17",
   "metadata": {},
   "outputs": [
    {
     "data": {
      "text/plain": [
       "0.8278937756029568"
      ]
     },
     "execution_count": 58,
     "metadata": {},
     "output_type": "execute_result"
    }
   ],
   "source": [
    "# Best score for tuned model\n",
    "tun_mod.best_score_"
   ]
  },
  {
   "cell_type": "code",
   "execution_count": 59,
   "id": "dfc8b935",
   "metadata": {},
   "outputs": [
    {
     "data": {
      "text/plain": [
       "{'criterion': 'gini', 'max_depth': 16, 'n_estimators': 60}"
      ]
     },
     "execution_count": 59,
     "metadata": {},
     "output_type": "execute_result"
    }
   ],
   "source": [
    "# Parameters to be tuned \n",
    "tun_mod.best_params_"
   ]
  },
  {
   "cell_type": "code",
   "execution_count": 60,
   "id": "f6a35ee9",
   "metadata": {},
   "outputs": [
    {
     "data": {
      "text/plain": [
       "RandomForestClassifier(max_depth=16, n_estimators=60)"
      ]
     },
     "execution_count": 60,
     "metadata": {},
     "output_type": "execute_result"
    }
   ],
   "source": [
    "# Fitting the tuned parameters into the final model\n",
    "final_model=RandomForestClassifier(**tun_mod.best_params_)\n",
    "final_model.fit(xtrain,ytrain)"
   ]
  },
  {
   "cell_type": "code",
   "execution_count": 61,
   "id": "53305999",
   "metadata": {},
   "outputs": [
    {
     "name": "stdout",
     "output_type": "stream",
     "text": [
      "              precision    recall  f1-score   support\n",
      "\n",
      "           0       0.51      0.30      0.37        81\n",
      "           1       0.77      0.89      0.83       219\n",
      "\n",
      "    accuracy                           0.73       300\n",
      "   macro avg       0.64      0.60      0.60       300\n",
      "weighted avg       0.70      0.73      0.71       300\n",
      "\n"
     ]
    }
   ],
   "source": [
    "# Scores after hyperparamter tuning\n",
    "from sklearn.ensemble import RandomForestClassifier\n",
    "rf=RandomForestClassifier()\n",
    "rf.fit(xtrain,ytrain)\n",
    "ypred=rf.predict(xtest)\n",
    "\n",
    "print(classification_report(ytest,ypred))"
   ]
  },
  {
   "cell_type": "code",
   "execution_count": 62,
   "id": "648568c6",
   "metadata": {},
   "outputs": [],
   "source": [
    "# Predicting the probability of outcomes\n",
    "yprob=logi.predict_proba(xtest)"
   ]
  },
  {
   "cell_type": "code",
   "execution_count": 63,
   "id": "b916c327",
   "metadata": {},
   "outputs": [
    {
     "name": "stdout",
     "output_type": "stream",
     "text": [
      "for the threshold of: 0.049\n",
      "              precision    recall  f1-score   support\n",
      "\n",
      "           0       0.00      0.00      0.00        81\n",
      "           1       0.73      1.00      0.84       219\n",
      "\n",
      "    accuracy                           0.73       300\n",
      "   macro avg       0.36      0.50      0.42       300\n",
      "weighted avg       0.53      0.73      0.62       300\n",
      "\n",
      "/////////////////////////////////////////////////////////////////\n",
      "for the threshold of: 0.059\n",
      "              precision    recall  f1-score   support\n",
      "\n",
      "           0       0.00      0.00      0.00        81\n",
      "           1       0.73      1.00      0.84       219\n",
      "\n",
      "    accuracy                           0.73       300\n",
      "   macro avg       0.36      0.50      0.42       300\n",
      "weighted avg       0.53      0.73      0.62       300\n",
      "\n",
      "/////////////////////////////////////////////////////////////////\n",
      "for the threshold of: 0.069\n",
      "              precision    recall  f1-score   support\n",
      "\n",
      "           0       0.00      0.00      0.00        81\n",
      "           1       0.73      1.00      0.84       219\n",
      "\n",
      "    accuracy                           0.73       300\n",
      "   macro avg       0.36      0.50      0.42       300\n",
      "weighted avg       0.53      0.73      0.62       300\n",
      "\n",
      "/////////////////////////////////////////////////////////////////\n",
      "for the threshold of: 0.079\n",
      "              precision    recall  f1-score   support\n",
      "\n",
      "           0       0.00      0.00      0.00        81\n",
      "           1       0.73      1.00      0.84       219\n",
      "\n",
      "    accuracy                           0.73       300\n",
      "   macro avg       0.36      0.50      0.42       300\n",
      "weighted avg       0.53      0.73      0.62       300\n",
      "\n",
      "/////////////////////////////////////////////////////////////////\n",
      "for the threshold of: 0.089\n",
      "              precision    recall  f1-score   support\n",
      "\n",
      "           0       1.00      0.01      0.02        81\n",
      "           1       0.73      1.00      0.85       219\n",
      "\n",
      "    accuracy                           0.73       300\n",
      "   macro avg       0.87      0.51      0.43       300\n",
      "weighted avg       0.80      0.73      0.62       300\n",
      "\n",
      "/////////////////////////////////////////////////////////////////\n",
      "for the threshold of: 0.099\n",
      "              precision    recall  f1-score   support\n",
      "\n",
      "           0       1.00      0.01      0.02        81\n",
      "           1       0.73      1.00      0.85       219\n",
      "\n",
      "    accuracy                           0.73       300\n",
      "   macro avg       0.87      0.51      0.43       300\n",
      "weighted avg       0.80      0.73      0.62       300\n",
      "\n",
      "/////////////////////////////////////////////////////////////////\n",
      "for the threshold of: 0.1\n",
      "              precision    recall  f1-score   support\n",
      "\n",
      "           0       1.00      0.01      0.02        81\n",
      "           1       0.73      1.00      0.85       219\n",
      "\n",
      "    accuracy                           0.73       300\n",
      "   macro avg       0.87      0.51      0.43       300\n",
      "weighted avg       0.80      0.73      0.62       300\n",
      "\n",
      "/////////////////////////////////////////////////////////////////\n",
      "for the threshold of: 0.2\n",
      "              precision    recall  f1-score   support\n",
      "\n",
      "           0       0.62      0.06      0.11        81\n",
      "           1       0.74      0.99      0.85       219\n",
      "\n",
      "    accuracy                           0.74       300\n",
      "   macro avg       0.68      0.52      0.48       300\n",
      "weighted avg       0.71      0.74      0.65       300\n",
      "\n",
      "/////////////////////////////////////////////////////////////////\n",
      "for the threshold of: 0.3\n",
      "              precision    recall  f1-score   support\n",
      "\n",
      "           0       0.53      0.10      0.17        81\n",
      "           1       0.74      0.97      0.84       219\n",
      "\n",
      "    accuracy                           0.73       300\n",
      "   macro avg       0.64      0.53      0.50       300\n",
      "weighted avg       0.69      0.73      0.66       300\n",
      "\n",
      "/////////////////////////////////////////////////////////////////\n"
     ]
    }
   ],
   "source": [
    "# Finding the scores at different threshold values\n",
    "for i in [0.049,0.059,0.069,0.079,0.089,0.099,0.1,0.2,0.3]:\n",
    "    yprob1=yprob[:,1]\n",
    "    ypred_th=np.zeros([len(ytest),1])\n",
    "    ypred_th[yprob1>i]=1\n",
    "    print('for the threshold of:',i)\n",
    "    print(classification_report(ytest,ypred_th))\n",
    "    print(\"/////////////////////////////////////////////////////////////////\")"
   ]
  },
  {
   "cell_type": "code",
   "execution_count": 64,
   "id": "4f08b159",
   "metadata": {},
   "outputs": [
    {
     "data": {
      "text/plain": [
       "[<matplotlib.lines.Line2D at 0x5752b50>]"
      ]
     },
     "execution_count": 64,
     "metadata": {},
     "output_type": "execute_result"
    },
    {
     "data": {
      "image/png": "[encoded data removed]",
      "text/plain": [
       "<Figure size 432x288 with 1 Axes>"
      ]
     },
     "metadata": {
      "needs_background": "light"
     },
     "output_type": "display_data"
    }
   ],
   "source": [
    "# Predicting the roc curve and score for the improved random forest model.\n",
    "from sklearn.metrics import roc_curve,roc_auc_score\n",
    "class1_prob=yprob[:,1]\n",
    "fpr,tpr,th=roc_curve(ytest,class1_prob)\n",
    "plt.plot(fpr,tpr)\n"
   ]
  },
  {
   "cell_type": "code",
   "execution_count": 65,
   "id": "cf363931",
   "metadata": {},
   "outputs": [
    {
     "data": {
      "text/plain": [
       "0.6597891651164102"
      ]
     },
     "execution_count": 65,
     "metadata": {},
     "output_type": "execute_result"
    }
   ],
   "source": [
    "roc_auc_score(ytest,class1_prob) # roc score is 0.65 which means the model is performing average."
   ]
  },
  {
   "cell_type": "code",
   "execution_count": 87,
   "id": "6bd8a84c",
   "metadata": {},
   "outputs": [],
   "source": [
    "# Hypertuning AdaBoost Classifier Model\n",
    "ab_mod=AdaBoostClassifier()\n",
    "ab_param={'n_estimators':[10,50,100,500],\n",
    "            'learning_rate':[0.0001,0.001,0.01,0.1,1.0]\n",
    "         }\n",
    "grid_search = GridSearchCV(estimator=ab_mod, param_grid=ab_param, n_jobs=-1,scoring='accuracy')\n",
    "grid_result = grid_search.fit(xtrain, ytrain)\n",
    "\n"
   ]
  },
  {
   "cell_type": "code",
   "execution_count": 89,
   "id": "f0d60777",
   "metadata": {},
   "outputs": [
    {
     "name": "stdout",
     "output_type": "stream",
     "text": [
      "Best: 0.728571 using {'learning_rate': 1.0, 'n_estimators': 50}\n"
     ]
    }
   ],
   "source": [
    "# Parameters and its corresponding values to be hypertuned are as follows:\n",
    "print(\"Best: %f using %s\" % (grid_result.best_score_, grid_result.best_params_)) # hence we see that the best score we can possibly get using this classifier is 0.75 when learning rate is 1.0 and number of estimators is 50"
   ]
  },
  {
   "cell_type": "code",
   "execution_count": 92,
   "id": "ce1d58ed",
   "metadata": {},
   "outputs": [
    {
     "name": "stdout",
     "output_type": "stream",
     "text": [
      "for the threshold of: 0.049\n",
      "              precision    recall  f1-score   support\n",
      "\n",
      "           0       0.00      0.00      0.00        81\n",
      "           1       0.73      1.00      0.84       219\n",
      "\n",
      "    accuracy                           0.73       300\n",
      "   macro avg       0.36      0.50      0.42       300\n",
      "weighted avg       0.53      0.73      0.62       300\n",
      "\n",
      "/////////////////////////////////////////////////////////////////\n",
      "for the threshold of: 0.059\n",
      "              precision    recall  f1-score   support\n",
      "\n",
      "           0       0.00      0.00      0.00        81\n",
      "           1       0.73      1.00      0.84       219\n",
      "\n",
      "    accuracy                           0.73       300\n",
      "   macro avg       0.36      0.50      0.42       300\n",
      "weighted avg       0.53      0.73      0.62       300\n",
      "\n",
      "/////////////////////////////////////////////////////////////////\n",
      "for the threshold of: 0.069\n",
      "              precision    recall  f1-score   support\n",
      "\n",
      "           0       0.00      0.00      0.00        81\n",
      "           1       0.73      1.00      0.84       219\n",
      "\n",
      "    accuracy                           0.73       300\n",
      "   macro avg       0.36      0.50      0.42       300\n",
      "weighted avg       0.53      0.73      0.62       300\n",
      "\n",
      "/////////////////////////////////////////////////////////////////\n",
      "for the threshold of: 0.079\n",
      "              precision    recall  f1-score   support\n",
      "\n",
      "           0       0.00      0.00      0.00        81\n",
      "           1       0.73      1.00      0.84       219\n",
      "\n",
      "    accuracy                           0.73       300\n",
      "   macro avg       0.36      0.50      0.42       300\n",
      "weighted avg       0.53      0.73      0.62       300\n",
      "\n",
      "/////////////////////////////////////////////////////////////////\n",
      "for the threshold of: 0.089\n",
      "              precision    recall  f1-score   support\n",
      "\n",
      "           0       1.00      0.01      0.02        81\n",
      "           1       0.73      1.00      0.85       219\n",
      "\n",
      "    accuracy                           0.73       300\n",
      "   macro avg       0.87      0.51      0.43       300\n",
      "weighted avg       0.80      0.73      0.62       300\n",
      "\n",
      "/////////////////////////////////////////////////////////////////\n",
      "for the threshold of: 0.099\n",
      "              precision    recall  f1-score   support\n",
      "\n",
      "           0       1.00      0.01      0.02        81\n",
      "           1       0.73      1.00      0.85       219\n",
      "\n",
      "    accuracy                           0.73       300\n",
      "   macro avg       0.87      0.51      0.43       300\n",
      "weighted avg       0.80      0.73      0.62       300\n",
      "\n",
      "/////////////////////////////////////////////////////////////////\n",
      "for the threshold of: 0.1\n",
      "              precision    recall  f1-score   support\n",
      "\n",
      "           0       1.00      0.01      0.02        81\n",
      "           1       0.73      1.00      0.85       219\n",
      "\n",
      "    accuracy                           0.73       300\n",
      "   macro avg       0.87      0.51      0.43       300\n",
      "weighted avg       0.80      0.73      0.62       300\n",
      "\n",
      "/////////////////////////////////////////////////////////////////\n",
      "for the threshold of: 0.2\n",
      "              precision    recall  f1-score   support\n",
      "\n",
      "           0       0.62      0.06      0.11        81\n",
      "           1       0.74      0.99      0.85       219\n",
      "\n",
      "    accuracy                           0.74       300\n",
      "   macro avg       0.68      0.52      0.48       300\n",
      "weighted avg       0.71      0.74      0.65       300\n",
      "\n",
      "/////////////////////////////////////////////////////////////////\n",
      "for the threshold of: 0.3\n",
      "              precision    recall  f1-score   support\n",
      "\n",
      "           0       0.53      0.10      0.17        81\n",
      "           1       0.74      0.97      0.84       219\n",
      "\n",
      "    accuracy                           0.73       300\n",
      "   macro avg       0.64      0.53      0.50       300\n",
      "weighted avg       0.69      0.73      0.66       300\n",
      "\n",
      "/////////////////////////////////////////////////////////////////\n"
     ]
    }
   ],
   "source": [
    "# Finding the possible scores for this classifier at different thershold  levels to improve the model.\n",
    "for i in [0.049,0.059,0.069,0.079,0.089,0.099,0.1,0.2,0.3]:\n",
    "    yprob1=yprob[:,1]\n",
    "    ypred_th=np.zeros([len(ytest),1])\n",
    "    ypred_th[yprob1>i]=1\n",
    "    print('for the threshold of:',i)\n",
    "    print(classification_report(ytest,ypred_th))\n",
    "    print(\"/////////////////////////////////////////////////////////////////\")"
   ]
  },
  {
   "cell_type": "code",
   "execution_count": 73,
   "id": "aa89413e",
   "metadata": {},
   "outputs": [
    {
     "data": {
      "text/plain": [
       "[<matplotlib.lines.Line2D at 0xb69d670>]"
      ]
     },
     "execution_count": 73,
     "metadata": {},
     "output_type": "execute_result"
    },
    {
     "data": {
      "image/png": "[encoded data removed]",
      "text/plain": [
       "<Figure size 432x288 with 1 Axes>"
      ]
     },
     "metadata": {
      "needs_background": "light"
     },
     "output_type": "display_data"
    }
   ],
   "source": [
    " # Predicting the roc curve and score for the improved Adaboost Classifier Model\n",
    "from sklearn.metrics import roc_curve,roc_auc_score\n",
    "class1_prob=yprob[:,1]\n",
    "fpr,tpr,th=roc_curve(ytest,class1_prob)\n",
    "plt.plot(fpr,tpr)\n"
   ]
  },
  {
   "cell_type": "code",
   "execution_count": 74,
   "id": "5d9743bc",
   "metadata": {},
   "outputs": [
    {
     "data": {
      "text/plain": [
       "0.6597891651164102"
      ]
     },
     "execution_count": 74,
     "metadata": {},
     "output_type": "execute_result"
    }
   ],
   "source": [
    "roc_auc_score(ytest,class1_prob) # Hence the roc score for AdaBoost is also 0.65"
   ]
  }
 ],
 "metadata": {
  "kernelspec": {
   "display_name": "Python 3 (ipykernel)",
   "language": "python",
   "name": "python3"
  },
  "language_info": {
   "codemirror_mode": {
    "name": "ipython",
    "version": 3
   },
   "file_extension": ".py",
   "mimetype": "text/x-python",
   "name": "python",
   "nbconvert_exporter": "python",
   "pygments_lexer": "ipython3",
   "version": "3.7.11"
  }
 },
 "nbformat": 4,
 "nbformat_minor": 5
}
